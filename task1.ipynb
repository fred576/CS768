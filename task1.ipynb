{
 "cells": [
  {
   "cell_type": "code",
   "execution_count": 1,
   "id": "06915a84",
   "metadata": {},
   "outputs": [],
   "source": [
    "import os\n",
    "import re\n",
    "import json\n",
    "import networkx as nx\n",
    "import matplotlib.pyplot as plt\n",
    "import pandas as pd\n",
    "import numpy as np\n",
    "import random"
   ]
  },
  {
   "cell_type": "code",
   "execution_count": 2,
   "id": "0e93b043",
   "metadata": {},
   "outputs": [],
   "source": [
    "dataset_path = \"./dataset_papers/\"\n",
    "json_path = \"parsed_citations.json\"\n",
    "nodes = [os.path.splitext(file)[0] for file in os.listdir(dataset_path)]\n",
    "G = nx.DiGraph()\n",
    "\n",
    "titles = {}\n",
    "abstracts = {}\n",
    "papers = os.listdir(dataset_path)\n",
    "for paper in papers:\n",
    "    paper_path = os.path.join(dataset_path, paper)\n",
    "    titlee, abstracte = None, None\n",
    "    with open(os.path.join(paper_path, \"title.txt\"), \"r\", encoding=\"utf-8\") as f:\n",
    "        titlee = f.read().strip()\n",
    "    with open(os.path.join(paper_path, \"abstract.txt\"), \"r\", encoding=\"utf-8\") as f:\n",
    "        abstracte = f.read().strip()\n",
    "    G.add_node(paper, title=titlee, abstract=abstracte)\n",
    "    titles[paper] = titlee\n",
    "    abstracts[paper] = abstracte\n",
    "\n",
    "all_titles = {node[0]: node[1][\"title\"].upper() for node in G.nodes(data=True)}\n",
    "title_to_paper = {}\n",
    "for paper, title in all_titles.items():\n",
    "    title = re.sub(r\"\\s+\", \" \", title)\n",
    "    title = re.sub(r\"[^A-Z0-9]\", \"\", title)\n",
    "    title = re.sub(r\"\\s+\", \" \", title)\n",
    "    title = title.upper()\n",
    "    title_to_paper[title] = paper"
   ]
  },
  {
   "cell_type": "code",
   "execution_count": 3,
   "id": "67daab7e",
   "metadata": {},
   "outputs": [],
   "source": [
    "def title_match(title, title_to_paper):\n",
    "    if title in title_to_paper:\n",
    "        # print(f\"Exact match found for {title}\")\n",
    "        return title_to_paper[title]\n",
    "    # best_match = get_close_matches(title, title_to_paper.keys(), n=1, cutoff=0.9)\n",
    "    # if best_match:\n",
    "    #     print(f\"Best match for {title}: {best_match}\")\n",
    "    #     return title_to_paper[best_match[0]]\n",
    "    # print(f\"No close match found for {title}\")\n",
    "    return None\n",
    "\n",
    "def add_edges(G, paper_id, citations, title_to_paper):\n",
    "    for citation in citations:\n",
    "        cited_paper_id = citation[\"key\"]\n",
    "        cited_paper_title = citation[\"title\"].upper()\n",
    "        cited_paper_title = re.sub(r\"\\s+\", \" \", cited_paper_title)\n",
    "        cited_paper_title = re.sub(r\"[^A-Z0-9]\", \"\", cited_paper_title)\n",
    "        cited_paper_title = re.sub(r\"\\s+\", \" \", cited_paper_title)\n",
    "        cited_paper_title = cited_paper_title.upper()\n",
    "        best_match_id = title_match(cited_paper_title, title_to_paper)\n",
    "        if best_match_id:\n",
    "            G.add_edge(paper_id, best_match_id)\n",
    "            continue\n",
    "        # else:\n",
    "        #     # print(f\"Warning: No match found for {cited_paper_title} in {paper_id}.\")\n",
    "        #     G.add_node(cited_paper_id, title=cited_paper_title)\n",
    "        #     G.add_edge(paper_id, cited_paper_id)\n",
    "        #     title_to_paper[cited_paper_title] = cited_paper_id\n",
    "\n",
    "def visualize_graph(G, output_path):\n",
    "    plt.figure(figsize=(12, 8))\n",
    "    pos = nx.spring_layout(G, k=0.5, iterations=50)\n",
    "    nx.draw(G, pos, with_labels=True, node_size=700, node_color=\"lightblue\", font_size=10, font_weight=\"bold\")\n",
    "    plt.title(\"Citation Network\")\n",
    "    plt.savefig(output_path)\n",
    "    plt.show()"
   ]
  },
  {
   "cell_type": "code",
   "execution_count": null,
   "id": "f48a3492",
   "metadata": {},
   "outputs": [],
   "source": [
    "with open(json_path, \"r\", encoding=\"utf-8\") as f:\n",
    "    citations_data = json.load(f)\n",
    "    for paper in citations_data:\n",
    "        # print(f\"Processing paper: {paper['paper_id']}\")\n",
    "        paper_id = paper[\"paper_id\"]\n",
    "        citations = paper[\"citations\"]\n",
    "        add_edges(G, paper_id, citations, title_to_paper)"
   ]
  },
  {
   "cell_type": "code",
   "execution_count": 5,
   "id": "d48da79b",
   "metadata": {},
   "outputs": [
    {
     "name": "stdout",
     "output_type": "stream",
     "text": [
      "Number of edges:  29392\n",
      "Number of isolated nodes:  438\n",
      "Average in-degree:  4.490756302521008\n",
      "Average out-degree:  4.490756302521008\n"
     ]
    },
    {
     "data": {
      "image/png": "[encoded data removed]",
      "text/plain": [
       "<Figure size 640x480 with 1 Axes>"
      ]
     },
     "metadata": {},
     "output_type": "display_data"
    }
   ],
   "source": [
    "# The number of edges in the graph.\n",
    "# Number of isolated nodes in the graph.\n",
    "# The average degree (in-degree, out-degree). Plot a histogram of the degrees of nodes.\n",
    "# Diameter of the graph.\n",
    "def graph_statistics(G):\n",
    "    print(\"Number of edges: \", G.number_of_edges())\n",
    "    print(\"Number of isolated nodes: \", len(list(nx.isolates(G))))\n",
    "    # print(\"Diameter of the graph: \", nx.diameter(G))\n",
    "    print(\"Average in-degree: \", sum(dict(G.in_degree()).values()) / G.number_of_nodes())\n",
    "    print(\"Average out-degree: \", sum(dict(G.out_degree()).values()) / G.number_of_nodes())\n",
    "    degrees = [d for n, d in G.degree()]\n",
    "    plt.hist(degrees, bins=30)\n",
    "    plt.title(\"Degree Distribution\")\n",
    "    plt.xlabel(\"Degree\")\n",
    "    plt.ylabel(\"Frequency\")\n",
    "    plt.yscale(\"log\")\n",
    "    plt.show()\n",
    "graph_statistics(G)"
   ]
  },
  {
   "cell_type": "code",
   "execution_count": 6,
   "id": "e6aaaf3f",
   "metadata": {},
   "outputs": [
    {
     "name": "stderr",
     "output_type": "stream",
     "text": [
      "/users/ug22/anileshbansal/miniconda3/envs/cs768/lib/python3.13/site-packages/tqdm/auto.py:21: TqdmWarning: IProgress not found. Please update jupyter and ipywidgets. See https://ipywidgets.readthedocs.io/en/stable/user_install.html\n",
      "  from .autonotebook import tqdm as notebook_tqdm\n"
     ]
    }
   ],
   "source": [
    "from sentence_transformers import SentenceTransformer\n",
    "\n",
    "feature_model = SentenceTransformer('all-MiniLM-L6-v2')\n",
    "features = {}\n",
    "for paper_id in papers:\n",
    "    text = titles[paper_id] + \" \" + abstracts[paper_id]\n",
    "    features[paper_id] = feature_model.encode(text)  # 384-d vector"
   ]
  },
  {
   "cell_type": "code",
   "execution_count": 7,
   "id": "69c32879",
   "metadata": {},
   "outputs": [],
   "source": [
    "import torch\n",
    "import torch.nn.functional as F\n",
    "from torch_geometric.nn import SAGEConv\n",
    "\n",
    "class GraphSAGE(torch.nn.Module):\n",
    "    def __init__(self, in_channels, hidden_channels, out_channels):\n",
    "        super(GraphSAGE, self).__init__()\n",
    "        self.conv1 = SAGEConv(in_channels, hidden_channels)\n",
    "        self.conv2 = SAGEConv(hidden_channels, out_channels)\n",
    "\n",
    "    def forward(self, x, edge_index):\n",
    "        x = self.conv1(x, edge_index)\n",
    "        x = F.relu(x)\n",
    "        x = self.conv2(x, edge_index)\n",
    "        return x"
   ]
  },
  {
   "cell_type": "code",
   "execution_count": 8,
   "id": "fb14cd54",
   "metadata": {},
   "outputs": [],
   "source": [
    "def negative_sampling(G, num_samples, edges, node_to_idx):\n",
    "    # edges = list(G.edges())\n",
    "    all_nodes = [node_to_idx[node] for node in G.nodes()]\n",
    "    existing_edges = set((min(u, v), max(u, v)) for u, v in edges)\n",
    "    \n",
    "    neg_edges = []\n",
    "    while len(neg_edges) < num_samples:\n",
    "        u, v = random.sample(all_nodes, 2)\n",
    "        u, v = min(u, v), max(u, v)\n",
    "        if (u, v) not in existing_edges:\n",
    "            neg_edges.append((u, v))\n",
    "    \n",
    "    return neg_edges"
   ]
  },
  {
   "cell_type": "code",
   "execution_count": 9,
   "id": "b48c2bda",
   "metadata": {},
   "outputs": [],
   "source": [
    "device = torch.device(\"cuda\" if torch.cuda.is_available() else \"cpu\")\n",
    "device = torch.device(\"cpu\")\n",
    "model = GraphSAGE(in_channels=384, hidden_channels=128, out_channels=64)\n",
    "optimizer = torch.optim.Adam(model.parameters(), lr=0.01)\n",
    "\n",
    "node_to_idx = {node: idx for idx, node in enumerate(G.nodes)}\n",
    "edges = []\n",
    "for src, dst in G.edges:\n",
    "    edges.append((node_to_idx[src], node_to_idx[dst]))"
   ]
  },
  {
   "cell_type": "code",
   "execution_count": 10,
   "id": "b48c2bda",
   "metadata": {},
   "outputs": [],
   "source": [
    "def train(model, optimizer, features, edge_index, epochs=10, batch_size=256):\n",
    "    model.train()\n",
    "    pos_edges = edges.copy()\n",
    "    for epoch in range(epochs):\n",
    "        epoch_loss = 0\n",
    "        random.shuffle(pos_edges)\n",
    "        for i in range(0, len(pos_edges), batch_size):\n",
    "            pos_batch = pos_edges[i:i + batch_size]\n",
    "            src_pos, dst_pos = zip(*pos_batch)\n",
    "            src_pos = torch.tensor(src_pos, dtype=torch.long).to(device)\n",
    "            dst_pos = torch.tensor(dst_pos, dtype=torch.long).to(device)\n",
    "            neg_edges = negative_sampling(G, len(pos_batch), edges, node_to_idx)\n",
    "            src_neg, dst_neg = zip(*neg_edges)\n",
    "            src_neg = torch.tensor(src_neg, dtype=torch.long).to(device)\n",
    "            dst_neg = torch.tensor(dst_neg, dtype=torch.long).to(device)\n",
    "            h_all = model(features, edge_index)\n",
    "            pos_score = (h_all[src_pos] * h_all[dst_pos]).sum(dim=1)\n",
    "            neg_score = (h_all[src_neg] * h_all[dst_neg]).sum(dim=1)\n",
    "            pos_labels = torch.ones(pos_score.size(0)).to(device)\n",
    "            neg_labels = torch.zeros(neg_score.size(0)).to(device)\n",
    "            scores = torch.cat([pos_score, neg_score], dim=0)\n",
    "            labels = torch.cat([pos_labels, neg_labels], dim=0)\n",
    "            loss = F.binary_cross_entropy_with_logits(scores, labels)\n",
    "            epoch_loss += loss.item()\n",
    "            optimizer.zero_grad()\n",
    "            loss.backward()\n",
    "            optimizer.step()\n",
    "\n",
    "        print(f\"Epoch {epoch+1}/{epochs}, Loss: {epoch_loss:.4f}\")"
   ]
  },
  {
   "cell_type": "code",
   "execution_count": 11,
   "id": "22289af7",
   "metadata": {},
   "outputs": [
    {
     "name": "stderr",
     "output_type": "stream",
     "text": [
      "/tmp/ipykernel_1285485/963245250.py:1: UserWarning: Creating a tensor from a list of numpy.ndarrays is extremely slow. Please consider converting the list to a single numpy.ndarray with numpy.array() before converting to a tensor. (Triggered internally at /pytorch/torch/csrc/utils/tensor_new.cpp:254.)\n",
      "  features_tensor = torch.tensor(list(features.values()), dtype=torch.float)\n"
     ]
    },
    {
     "name": "stdout",
     "output_type": "stream",
     "text": [
      "Epoch 1/10, Loss: 64.3511\n",
      "Epoch 2/10, Loss: 59.4998\n",
      "Epoch 3/10, Loss: 58.2331\n",
      "Epoch 4/10, Loss: 57.3485\n",
      "Epoch 5/10, Loss: 56.5001\n",
      "Epoch 6/10, Loss: 56.3714\n",
      "Epoch 7/10, Loss: 56.0893\n",
      "Epoch 8/10, Loss: 56.0011\n",
      "Epoch 9/10, Loss: 55.6637\n",
      "Epoch 10/10, Loss: 55.5580\n"
     ]
    }
   ],
   "source": [
    "features_tensor = torch.tensor(list(features.values()), dtype=torch.float)\n",
    "edge_index = torch.tensor(edges, dtype=torch.long).t().contiguous()\n",
    "model = model.to(device)\n",
    "features_tensor = features_tensor.to(device)\n",
    "edge_index = edge_index.to(device)\n",
    "\n",
    "# Train the model\n",
    "train(model, optimizer, features_tensor, edge_index)"
   ]
  },
  {
   "cell_type": "code",
   "execution_count": 15,
   "id": "21d7bebb",
   "metadata": {},
   "outputs": [],
   "source": [
    "@torch.no_grad()\n",
    "def predict(model, x_all, edge_index, query_feature, top_k=5):\n",
    "    model.eval()\n",
    "    embeddings = model(x_all, edge_index)\n",
    "    query_embedding = model(query_feature.unsqueeze(0), edge_index=torch.empty(2, 0).long())[0]\n",
    "    cos_sim = F.cosine_similarity(query_embedding.unsqueeze(0), embeddings)\n",
    "    topk_indices = cos_sim.topk(top_k).indices\n",
    "    return topk_indices"
   ]
  },
  {
   "cell_type": "code",
   "execution_count": 16,
   "id": "0881ea91",
   "metadata": {},
   "outputs": [],
   "source": [
    "def topK(title, abstract, k=5):\n",
    "    query_feature = feature_model.encode(title + \" \" + abstract)\n",
    "    query_feature = torch.tensor(query_feature, dtype=torch.float).to(device)\n",
    "    top_k_indices = predict(model, features_tensor, edge_index, query_feature, top_k=k)\n",
    "    top_k_papers = [list(G.nodes)[idx] for idx in top_k_indices.cpu().numpy()]\n",
    "    return top_k_papers\n",
    "\n",
    "title = \"Graph Edit Distance with General Costs Using Neural Set Divergence\"\n",
    "abstract = \"\"\"Graph Edit Distance (GED) measures the (dis-)similarity between two given graphs,\n",
    " in terms of the minimum-cost edit sequence that transforms one graph to the\n",
    " other. However, the exact computation of GED is NP-Hard, which has recently\n",
    " motivated the design of neural methods for GED estimation. However, they do not\n",
    " explicitly account for edit operations with different costs. In response, we propose\n",
    " GRAPHEDX, a neural GED estimator that can work with general costs specified\n",
    " for the four edit operations, viz., edge deletion, edge addition, node deletion and\n",
    " node addition. We first present GED as a quadratic assignment problem (QAP)\n",
    " that incorporates these four costs. Then, we represent each graph as a set of node\n",
    " and edge embeddings and use them to design a family of neural set divergence\n",
    " surrogates. We replace the QAP terms corresponding to each operation with their\n",
    " surrogates. Computing such neural set divergence require aligning nodes and\n",
    " edges of the two graphs. We learn these alignments using a Gumbel-Sinkhorn\n",
    " permutation generator, additionally ensuring that the node and edge alignments\n",
    " are consistent with each other. Moreover, these alignments are cognizant of both\n",
    " the presence and absence of edges between node-pairs. Experiments on several\n",
    " datasets, under a variety of edit cost settings, show that GRAPHEDX consistently\n",
    " outperforms state-of-the-art methods and heuristics in terms of prediction error.\"\"\""
   ]
  },
  {
   "cell_type": "code",
   "execution_count": 22,
   "id": "ce6417c4",
   "metadata": {},
   "outputs": [
    {
     "name": "stdout",
     "output_type": "stream",
     "text": [
      "Top K papers:\n",
      "- 2305.02200v2: Deep Graph Representation Learning and Optimization for Influence Maximization\n",
      "- 2310.15865v2: Using Time-Aware Graph Neural Networks to Predict Temporal Centralities in Dynamic Graphs\n",
      "- 2210.08189v2: Parameter-free Dynamic Graph Embedding for Link Prediction\n",
      "- 2406.08649v2: MOTIVE: A Drug-Target Interaction Graph For Inductive Link Prediction\n",
      "- 2211.13708v1: Reduction Algorithms for Persistence Diagrams of Networks: CoralTDA and PrunIT\n"
     ]
    }
   ],
   "source": [
    "topK_papers = topK(title, abstract, k=5)\n",
    "print(\"Top K papers:\")\n",
    "for paper in topK_papers:\n",
    "    print(f\"- {paper}: {titles[paper]}\")"
   ]
  }
 ],
 "metadata": {
  "kernelspec": {
   "display_name": "cs768",
   "language": "python",
   "name": "python3"
  },
  "language_info": {
   "codemirror_mode": {
    "name": "ipython",
    "version": 3
   },
   "file_extension": ".py",
   "mimetype": "text/x-python",
   "name": "python",
   "nbconvert_exporter": "python",
   "pygments_lexer": "ipython3",
   "version": "3.13.2"
  }
 },
 "nbformat": 4,
 "nbformat_minor": 5
}
